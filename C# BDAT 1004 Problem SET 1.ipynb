{
 "cells": [
  {
   "cell_type": "markdown",
   "metadata": {},
   "source": [
    "# Question 1\n",
    "What data type is each of the following?"
   ]
  },
  {
   "cell_type": "markdown",
   "metadata": {},
   "source": [
    "5 - Integer\n",
    "5.0 - Float\n",
    "5 > 1 - Boolean\n",
    "'5' - String\n",
    "5 * 2 Integer\n",
    "'5' * 2 String\n",
    "'5' + '2' String\n",
    "5 / 2 Float\n",
    "5 // 2 Double\n",
    "[5, 2, 1] - List in python, not sure on C#\n",
    "5 in [1, 4, 6] - Technically a Boolean\n",
    "Pi (the number) Decimal (i guess)"
   ]
  },
  {
   "cell_type": "markdown",
   "metadata": {},
   "source": [
    "# Question 2\n",
    "\n",
    "Write (and evaluate) C# expressions that answer these questions:\n",
    "a. How many letters are there in 'Supercalifragilisticexpialidocious'?"
   ]
  },
  {
   "cell_type": "code",
   "execution_count": 22,
   "metadata": {},
   "outputs": [
    {
     "name": "stdout",
     "output_type": "stream",
     "text": [
      "The letters in Supercalifragilisticexpialidocious is : 34\r\n"
     ]
    }
   ],
   "source": [
    "String s1 = \"Supercalifragilisticexpialidocious\";\n",
    "Console.WriteLine(\"The letters in Supercalifragilisticexpialidocious is : \" + s1.Length);"
   ]
  },
  {
   "cell_type": "markdown",
   "metadata": {},
   "source": [
    "# 2 Continued\n",
    "b. Does 'Supercalifragilisticexpialidocious' contain 'ice' as a substring?"
   ]
  },
  {
   "cell_type": "code",
   "execution_count": 94,
   "metadata": {},
   "outputs": [
    {
     "name": "stdout",
     "output_type": "stream",
     "text": [
      "ice\r\n"
     ]
    }
   ],
   "source": [
    "String s1 = \"Supercalifragilisticexpialidocious\";\n",
    "String s2;\n",
    "s2=s1.Substring(18,3);\n",
    "Console.WriteLine(s2);"
   ]
  },
  {
   "cell_type": "markdown",
   "metadata": {},
   "source": [
    "# 2 Continued\n",
    "c. Which of the following words is the longest:\n",
    "Supercalifragilisticexpialidocious, Honorificabilitudinitatibus, or\n",
    "Bababadalgharaghtakamminarronnkonn?"
   ]
  },
  {
   "cell_type": "code",
   "execution_count": 27,
   "metadata": {},
   "outputs": [
    {
     "name": "stdout",
     "output_type": "stream",
     "text": [
      "The letters in Supercalifragilisticexpialidocious is : 34\n",
      "The letters in Honorificabilitudinitatibus is : 27\n",
      "The letters in Bababadalgharaghtakamminarronnkonn is : 34\n"
     ]
    }
   ],
   "source": [
    "\n",
    "String s1 = \"Supercalifragilisticexpialidocious\";\n",
    "String s2 = \"Honorificabilitudinitatibus\";\n",
    "String s3 = \"Bababadalgharaghtakamminarronnkonn\";\n",
    "Console.WriteLine(\"The letters in Supercalifragilisticexpialidocious is : \" + s1.Length);\n",
    "Console.WriteLine(\"The letters in Honorificabilitudinitatibus is : \" + s2.Length);\n",
    "Console.WriteLine(\"The letters in Bababadalgharaghtakamminarronnkonn is : \" + s3.Length);\n"
   ]
  },
  {
   "cell_type": "markdown",
   "metadata": {},
   "source": [
    "# 2 Continued\n",
    "d. Which composer comes first in the dictionary: 'Berlioz', 'Borodin', 'Brian','Bartok', 'Bellini', 'Buxtehude', 'Bernstein'. Which one comes last?"
   ]
  },
  {
   "cell_type": "code",
   "execution_count": 29,
   "metadata": {},
   "outputs": [
    {
     "name": "stdout",
     "output_type": "stream",
     "text": [
      "Bartok\n",
      "Bellini\n",
      "Berlioz\n",
      "Bernstein\n",
      "Borodin\n",
      "Brian\n",
      "Buxtehude\n"
     ]
    }
   ],
   "source": [
    "var names = new SortedSet<string>();\n",
    "          names.Add(\"Berlioz\");\n",
    "          names.Add(\"Borodin\");\n",
    "          names.Add(\"Brian\");\n",
    "          names.Add(\"Bartok\");\n",
    "          names.Add(\"Bellini\");\n",
    "          names.Add(\"Buxtehude\");\n",
    "          names.Add(\"Bernstein\");\n",
    "          foreach (var name in names)\n",
    "          {\n",
    "               Console.WriteLine(name);\n",
    "               }"
   ]
  },
  {
   "cell_type": "markdown",
   "metadata": {},
   "source": [
    "# Question 3 \n",
    "Implement function triangleArea(a,b,c) that takes as input the lengths of the 3\n",
    "sides of a triangle and returns the area of the triangle. By Heron's formula, the area\n",
    "of a triangle with side lengths a, b, and c is\n",
    "s(s - a)(s -b)(s -c), where\n",
    "s = (a + b + c) /2.\n",
    ">>> triangleArea(2,2,2)\n",
    "1.7320508075688772"
   ]
  },
  {
   "cell_type": "code",
   "execution_count": 98,
   "metadata": {},
   "outputs": [
    {
     "ename": "Unhandled Exception",
     "evalue": "(6,8): error CS1955: Non-invocable member 's' cannot be used like a method.",
     "output_type": "error",
     "traceback": [
      "(6,8): error CS1955: Non-invocable member 's' cannot be used like a method."
     ]
    }
   ],
   "source": [
    "int a,b,c,s, area;\n",
    "a=2;\n",
    "b=2;\n",
    "c=2;\n",
    "s = (a+b+c)/2;\n",
    "area = s(s - a)(s -b)(s -c);\n",
    "Console.WriteLine(area);"
   ]
  },
  {
   "cell_type": "markdown",
   "metadata": {},
   "source": [
    "Comment: Sorry, I could not figure out the issue.\n",
    "\n"
   ]
  },
  {
   "cell_type": "markdown",
   "metadata": {},
   "source": [
    "# Question 4 \n",
    "Write a program in C# Sharp to separate odd and even integers in separate arrays.\n",
    "Go to the editor\n",
    "Test Data :\n",
    "Input the number of elements to be stored in the array :5\n",
    "Input 5 elements in the array :\n",
    "element - 0 : 25\n",
    "element - 1 : 47\n",
    "element - 2 : 42\n",
    "element - 3 : 56\n",
    "element - 4 : 32\n",
    "Expected Output:\n",
    "The Even elements are:\n",
    "42 56 32\n",
    "The Odd elements are :\n",
    "25 47"
   ]
  },
  {
   "cell_type": "code",
   "execution_count": 104,
   "metadata": {},
   "outputs": [
    {
     "name": "stdout",
     "output_type": "stream",
     "text": [
      "The Odd element are:25\n",
      "The Odd element are:47\n",
      "The Even element are:42\n",
      "The Even element are:56\n",
      "The Even element are:32\n"
     ]
    }
   ],
   "source": [
    "\n",
    "int[] arr ={ 25, 47, 42, 56, 32 };  \n",
    "          \n",
    "        foreach (var value in arr)  \n",
    "        {  \n",
    "            if  (value % 2 == 0)  \n",
    "            {  \n",
    "                Console.WriteLine( \"The Even element are:\" + value );  \n",
    "            }  \n",
    "            else  \n",
    "            {  \n",
    "                Console.WriteLine( \"The Odd element are:\" + value );  \n",
    "            } \n",
    "            }\n",
    "    "
   ]
  },
  {
   "cell_type": "markdown",
   "metadata": {},
   "source": [
    "# Question 5 \n",
    "a. Write a function inside(x,y,x1,y1,x2,y2) that returns True or False depending on whether the point (x,y) lies in the rectangle with lower left corner (x1,y1) and upper right corner (x2,y2).\n",
    ">>> inside(1,1,0,0,2,3)\n",
    "True\n",
    ">>> inside(-1,-1,0,0,2,3)\n",
    "False"
   ]
  },
  {
   "cell_type": "code",
   "execution_count": 134,
   "metadata": {},
   "outputs": [
    {
     "name": "stdout",
     "output_type": "stream",
     "text": [
      "True\r\n"
     ]
    }
   ],
   "source": [
    "bool inside(int x1, int y1, int x2, int y2, int x, int y) \n",
    "{ \n",
    "if (x > x1 && x < x2 && y > y1 && y < y2) \n",
    "    return true; \n",
    "return false; \n",
    "} \n",
    "  \n",
    "int x1 = 0, y1 = 0, x2 = 2, y2 = 3; \n",
    "int x = 1, y = 1; \n",
    "  if (inside(x1, y1, x2, y2, x, y)) \n",
    "        Console.WriteLine(\"True\"); \n",
    "    else\n",
    "        Console.WriteLine(\"False\"); "
   ]
  },
  {
   "cell_type": "code",
   "execution_count": 135,
   "metadata": {},
   "outputs": [
    {
     "name": "stdout",
     "output_type": "stream",
     "text": [
      "False\r\n"
     ]
    }
   ],
   "source": [
    "bool inside(int x1, int y1, int x2, int y2, int x, int y) \n",
    "{ \n",
    "if (x > x1 && x < x2 && y > y1 && y < y2) \n",
    "    return true; \n",
    "return false; \n",
    "} \n",
    "  \n",
    "int x1 = 0, y1 = 0, x2 = 2, y2 = 3; \n",
    "int x = -1, y = -1; \n",
    "  if (inside(x1, y1, x2, y2, x, y)) \n",
    "        Console.WriteLine(\"True\"); \n",
    "    else\n",
    "        Console.WriteLine(\"False\"); "
   ]
  },
  {
   "cell_type": "markdown",
   "metadata": {},
   "source": [
    "b. Use function inside() from part a. to write an expression that tests whether the point (1,1) lies in both of the following rectangles: one with lower left corner (0.3, 0.5) and upper right corner (1.1, 0.7) and the other with lower left corner (0.5, 0.2) and upper right corner (1.1, 2)."
   ]
  },
  {
   "cell_type": "code",
   "execution_count": 136,
   "metadata": {},
   "outputs": [
    {
     "ename": "Unhandled Exception",
     "evalue": "(8,10): error CS0266: Cannot implicitly convert type 'double' to 'int'. An explicit conversion exists (are you missing a cast?)\r\n(8,20): error CS0266: Cannot implicitly convert type 'double' to 'int'. An explicit conversion exists (are you missing a cast?)\r\n(8,30): error CS0266: Cannot implicitly convert type 'double' to 'int'. An explicit conversion exists (are you missing a cast?)\r\n(8,40): error CS0266: Cannot implicitly convert type 'double' to 'int'. An explicit conversion exists (are you missing a cast?)",
     "output_type": "error",
     "traceback": [
      "(8,10): error CS0266: Cannot implicitly convert type 'double' to 'int'. An explicit conversion exists (are you missing a cast?)\r\n(8,20): error CS0266: Cannot implicitly convert type 'double' to 'int'. An explicit conversion exists (are you missing a cast?)\r\n(8,30): error CS0266: Cannot implicitly convert type 'double' to 'int'. An explicit conversion exists (are you missing a cast?)\r\n(8,40): error CS0266: Cannot implicitly convert type 'double' to 'int'. An explicit conversion exists (are you missing a cast?)"
     ]
    }
   ],
   "source": [
    "dynamic inside(int x1, int y1, int x2, int y2, int x, int y) \n",
    "{ \n",
    "if (x > x1 && x < x2 && y > y1 && y < y2) \n",
    "    return true;  \n",
    "return false; \n",
    "} \n",
    "  \n",
    "int x1 = 1.1, y1 = 0.7, x2 = 1.1, y2 = 0.7; \n",
    "int x = 1, y = 1; \n",
    "  if (inside(x1, y1, x2, y2, x, y)) \n",
    "        Console.WriteLine(\"True\"); \n",
    "    else\n",
    "        Console.WriteLine(\"False\"); "
   ]
  },
  {
   "cell_type": "markdown",
   "metadata": {},
   "source": [
    "Comment: I couldnot figure out this issue, i used bool, int, float"
   ]
  },
  {
   "cell_type": "code",
   "execution_count": 137,
   "metadata": {},
   "outputs": [
    {
     "ename": "Unhandled Exception",
     "evalue": "(8,10): error CS0266: Cannot implicitly convert type 'double' to 'int'. An explicit conversion exists (are you missing a cast?)\r\n(8,20): error CS0266: Cannot implicitly convert type 'double' to 'int'. An explicit conversion exists (are you missing a cast?)\r\n(8,30): error CS0266: Cannot implicitly convert type 'double' to 'int'. An explicit conversion exists (are you missing a cast?)\r\n(13,17): error CS0117: 'Console' does not contain a definition for 'Writeline'",
     "output_type": "error",
     "traceback": [
      "(8,10): error CS0266: Cannot implicitly convert type 'double' to 'int'. An explicit conversion exists (are you missing a cast?)\r\n(8,20): error CS0266: Cannot implicitly convert type 'double' to 'int'. An explicit conversion exists (are you missing a cast?)\r\n(8,30): error CS0266: Cannot implicitly convert type 'double' to 'int'. An explicit conversion exists (are you missing a cast?)\r\n(13,17): error CS0117: 'Console' does not contain a definition for 'Writeline'"
     ]
    }
   ],
   "source": [
    "dynamic inside(int x1, int y1, int x2, int y2, int x, int y) \n",
    "{ \n",
    "if (x > x1 && x < x2 && y > y1 && y < y2) \n",
    "    return true;  \n",
    "return false; \n",
    "} \n",
    "  \n",
    "int x1 = 0.2, y1 = 0.2, x2 = 1.1, y2 = 2; \n",
    "int x = 1, y = 1; \n",
    "  if (inside(x1, y1, x2, y2, x, y)) \n",
    "        Console.WriteLine(\"True\"); \n",
    "    else\n",
    "        Console.WriteLine(\"False\"); "
   ]
  },
  {
   "cell_type": "code",
   "execution_count": null,
   "metadata": {},
   "outputs": [],
   "source": []
  }
 ],
 "metadata": {
  "kernelspec": {
   "display_name": ".NET (C#)",
   "language": "C#",
   "name": ".net-csharp"
  },
  "language_info": {
   "file_extension": ".cs",
   "mimetype": "text/x-csharp",
   "name": "C#",
   "pygments_lexer": "csharp",
   "version": "8.0"
  }
 },
 "nbformat": 4,
 "nbformat_minor": 4
}
